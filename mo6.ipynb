{
  "nbformat": 4,
  "nbformat_minor": 0,
  "metadata": {
    "colab": {
      "provenance": []
    },
    "kernelspec": {
      "name": "python3",
      "display_name": "Python 3"
    },
    "language_info": {
      "name": "python"
    }
  },
  "cells": [
    {
      "cell_type": "code",
      "execution_count": 3,
      "metadata": {
        "colab": {
          "base_uri": "https://localhost:8080/"
        },
        "id": "ld7r2tjT9-zg",
        "outputId": "a47a309e-3840-4bad-eed6-72e1fd14204f"
      },
      "outputs": [
        {
          "output_type": "stream",
          "name": "stdout",
          "text": [
            "Metrics for Analysis:\n",
            "Accuracy: 0.89\n",
            "Precision: 0.90\n",
            "Recall: 0.90\n",
            "F1-Score: 0.90\n",
            "\n",
            "Classification Report:\n",
            "               precision    recall  f1-score   support\n",
            "\n",
            "No Depression       0.89      0.89      0.89        71\n",
            "   Depression       0.90      0.90      0.90        80\n",
            "\n",
            "     accuracy                           0.89       151\n",
            "    macro avg       0.89      0.89      0.89       151\n",
            " weighted avg       0.89      0.89      0.89       151\n",
            "\n"
          ]
        }
      ],
      "source": [
        "import pandas as pd\n",
        "from sklearn.model_selection import train_test_split\n",
        "from sklearn.preprocessing import LabelEncoder, StandardScaler\n",
        "from sklearn.linear_model import LogisticRegression\n",
        "from sklearn.metrics import classification_report, accuracy_score, precision_score, recall_score, f1_score\n",
        "\n",
        "import matplotlib.pyplot as plt\n",
        "import seaborn as sns\n",
        "\n",
        "data = pd.read_csv('Depression Student Dataset.csv')\n",
        "\n",
        "categorical_columns = ['Gender', 'Sleep Duration', 'Dietary Habits',\n",
        "                       'Have you ever had suicidal thoughts ?', 'Family History of Mental Illness', 'Depression']\n",
        "for col in categorical_columns:\n",
        "    data[col] = LabelEncoder().fit_transform(data[col])\n",
        "\n",
        "\n",
        "target = 'Depression'\n",
        "features = ['Academic Pressure', 'Study Satisfaction', 'Sleep Duration',\n",
        "            'Financial Stress', 'Have you ever had suicidal thoughts ?', 'Family History of Mental Illness']\n",
        "\n",
        "X = data[features]\n",
        "y = data[target]\n",
        "\n",
        "scaler = StandardScaler()\n",
        "X = scaler.fit_transform(X)\n",
        "\n",
        "X_train, X_test, y_train, y_test = train_test_split(X, y, test_size=0.3, random_state=42)\n",
        "\n",
        "model = LogisticRegression(random_state=42)\n",
        "model.fit(X_train, y_train)\n",
        "\n",
        "y_pred = model.predict(X_test)\n",
        "y_pred_proba = model.predict_proba(X_test)[:, 1]\n",
        "\n",
        "accuracy = accuracy_score(y_test, y_pred)\n",
        "precision = precision_score(y_test, y_pred)\n",
        "recall = recall_score(y_test, y_pred)\n",
        "f1 = f1_score(y_test, y_pred)\n",
        "\n",
        "print(\"Metrics for Analysis:\")\n",
        "print(f\"Accuracy: {accuracy:.2f}\")\n",
        "print(f\"Precision: {precision:.2f}\")\n",
        "print(f\"Recall: {recall:.2f}\")\n",
        "print(f\"F1-Score: {f1:.2f}\")\n",
        "\n",
        "print(\"\\nClassification Report:\")\n",
        "print(classification_report(y_test, y_pred, target_names=[\"No Depression\", \"Depression\"]))\n"
      ]
    }
  ]
}